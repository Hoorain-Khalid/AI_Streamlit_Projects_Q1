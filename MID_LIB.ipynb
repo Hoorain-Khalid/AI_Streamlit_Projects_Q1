{
  "nbformat": 4,
  "nbformat_minor": 0,
  "metadata": {
    "colab": {
      "provenance": []
    },
    "kernelspec": {
      "name": "python3",
      "display_name": "Python 3"
    },
    "language_info": {
      "name": "python"
    }
  },
  "cells": [
    {
      "cell_type": "code",
      "execution_count": 3,
      "metadata": {
        "colab": {
          "base_uri": "https://localhost:8080/"
        },
        "id": "XH3LlgG_CPxi",
        "outputId": "d66d4c4f-6386-4225-9598-a63b5843ca68"
      },
      "outputs": [
        {
          "output_type": "stream",
          "name": "stdout",
          "text": [
            "Welcome to Mad Libs! Fill in the blanks to create your own story.\n",
            "\n",
            "Enter an adjective: SWEET\n",
            "Enter a noun: AAFREEN\n",
            "Enter a verb: JUMP\n",
            "Enter an adverb: SWEET\n",
            "Enter a place: KAPACIOUS\n",
            "\n",
            "Here is your Mad Libs story:\n",
            "One day, a SWEET AAFREEN decided to JUMP SWEET at the KAPACIOUS. It was an unforgettable adventure!\n"
          ]
        }
      ],
      "source": [
        "def mad_libs():\n",
        "    print(\"Welcome to Mad Libs! Fill in the blanks to create your own story.\\n\")\n",
        "\n",
        "    adjective = input(\"Enter an adjective: \")\n",
        "    noun = input(\"Enter a noun: \")\n",
        "    verb = input(\"Enter a verb: \")\n",
        "    adverb = input(\"Enter an adverb: \")\n",
        "    place = input(\"Enter a place: \")\n",
        "\n",
        "    story = f\"One day, a {adjective} {noun} decided to {verb} {adverb} at the {place}. It was an unforgettable adventure!\"\n",
        "\n",
        "    print(\"\\nHere is your Mad Libs story:\")\n",
        "    print(story)\n",
        "\n",
        "if __name__ == \"__main__\":\n",
        "    mad_libs()\n"
      ]
    }
  ]
}