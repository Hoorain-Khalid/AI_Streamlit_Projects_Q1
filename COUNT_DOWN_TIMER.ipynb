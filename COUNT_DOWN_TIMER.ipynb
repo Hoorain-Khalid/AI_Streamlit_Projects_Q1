{
  "nbformat": 4,
  "nbformat_minor": 0,
  "metadata": {
    "colab": {
      "provenance": []
    },
    "kernelspec": {
      "name": "python3",
      "display_name": "Python 3"
    },
    "language_info": {
      "name": "python"
    }
  },
  "cells": [
    {
      "cell_type": "code",
      "execution_count": 3,
      "metadata": {
        "colab": {
          "base_uri": "https://localhost:8080/"
        },
        "id": "0YDzFTh6bAip",
        "outputId": "a0aed8e1-5ccd-4698-e9f9-d77fb83fae1f"
      },
      "outputs": [
        {
          "output_type": "stream",
          "name": "stdout",
          "text": [
            "Enter the countdown time in seconds: 90\n",
            "Time's up! ⏰\n"
          ]
        }
      ],
      "source": [
        "import time\n",
        "\n",
        "def countdown_timer(seconds):\n",
        "    while seconds:\n",
        "        mins, secs = divmod(seconds, 60)\n",
        "        timer = f\"{mins:02}:{secs:02}\"\n",
        "        print(timer, end=\"\\r\")\n",
        "        time.sleep(1)\n",
        "        seconds -= 1\n",
        "\n",
        "    print(\"Time's up! ⏰\")\n",
        "\n",
        "if __name__ == \"__main__\":\n",
        "    try:\n",
        "        user_time = int(input(\"Enter the countdown time in seconds: \"))\n",
        "        countdown_timer(user_time)\n",
        "    except ValueError:\n",
        "        print(\"Please enter a valid number of seconds.\")\n"
      ]
    }
  ]
}